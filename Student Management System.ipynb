{
 "cells": [
  {
   "cell_type": "code",
   "execution_count": 5,
   "id": "7954d3e9-7418-4798-819b-8c997eb888ba",
   "metadata": {
    "scrolled": true
   },
   "outputs": [
    {
     "name": "stdout",
     "output_type": "stream",
     "text": [
      "{'student1': {'Age': 23,\n",
      "              'Name': 'Alice',\n",
      "              'Subject': {'Chemistry', 'EVS', 'Physics'},\n",
      "              'dob': (16, 2, 2002)},\n",
      " 'student2': {'Age': 20,\n",
      "              'Name': 'Alexa',\n",
      "              'Subject': {'Maths', 'Chemistry', 'Computer science'},\n",
      "              'dob': (23, 2, 2005)}}\n",
      "Displaying all students data\n",
      "{'student1': {'Name': 'Alice', 'Age': 23, 'dob': (16, 2, 2002), 'Subject': {'Chemistry', 'EVS', 'Physics'}}, 'student2': {'Name': 'Alexa', 'Age': 20, 'dob': (23, 2, 2005), 'Subject': {'Maths', 'Chemistry', 'Computer science'}}, 'student3': {'Name': 'Adam', 'Age': 8, 'dob': (6, 5, 2017), 'Subject': {'Maths', 'Software Eng.', 'Chemistry'}}}\n",
      "\n",
      "\n",
      "Updated subjects for student1: {'Maths', 'Chemistry', 'EVS', 'Physics'}\n",
      "Updated student : {'student1': {'Name': 'Alice', 'Age': 23, 'dob': (16, 2, 2002), 'Subject': {'Maths', 'Chemistry', 'EVS', 'Physics'}}, 'student2': {'Name': 'Alexa', 'Age': 20, 'dob': (23, 2, 2005), 'Subject': {'Maths', 'Chemistry', 'Computer science'}}, 'student3': {'Name': 'Adam', 'Age': 8, 'dob': (6, 5, 2017), 'Subject': {'Maths', 'Software Eng.', 'Chemistry'}}}\n",
      "\n",
      "\n",
      "\n",
      "~We are removing student2 student's subject!!~\n",
      "Remove Subject :{'Maths', 'Chemistry', 'Computer science'}\n",
      "updated students:{'student1': {'Name': 'Alice', 'Age': 23, 'dob': (16, 2, 2002), 'Subject': {'Maths', 'Chemistry', 'EVS', 'Physics'}}, 'student2': {'Name': 'Alexa', 'Age': 20, 'dob': (23, 2, 2005)}, 'student3': {'Name': 'Adam', 'Age': 8, 'dob': (6, 5, 2017), 'Subject': {'Maths', 'Software Eng.', 'Chemistry'}}}\n",
      "\n",
      "\n",
      "\n",
      "~We are displaying the students information!~\n",
      "{'Name': 'Adam', 'Age': 8, 'dob': (6, 5, 2017), 'Subject': {'Maths', 'Software Eng.', 'Chemistry'}}\n",
      "\n",
      "\n",
      "\n",
      "~Now we will remove student2 students info!~\n",
      "Students after removing student2: {'student1': {'Name': 'Alice', 'Age': 23, 'dob': (16, 2, 2002), 'Subject': {'Maths', 'Chemistry', 'EVS', 'Physics'}}, 'student3': {'Name': 'Adam', 'Age': 8, 'dob': (6, 5, 2017), 'Subject': {'Maths', 'Software Eng.', 'Chemistry'}}}\n",
      "Removed student: {'Name': 'Alexa', 'Age': 20, 'dob': (23, 2, 2005)}\n"
     ]
    }
   ],
   "source": [
    "import pprint\n",
    "\n",
    "student101 = {\"Name\":\"Alice\",\"Age\":23,\"dob\":(16,2,2002),\"Subject\":{\"Chemistry\",\"Physics\",\"EVS\",\"EVS\"}}\n",
    "student102 = {\"Name\":\"Alexa\",\"Age\":20,\"dob\":(23,2,2005),\"Subject\":{\"Maths\",\"Chemistry\",\"Computer science\"}}\n",
    "                   \n",
    "students = {'student1':student101,\n",
    "            'student2':student102}\n",
    "\n",
    "pprint.pprint(students)\n",
    "\n",
    "\n",
    "#To add a student in our students dict.\n",
    "students['student3'] = {\n",
    "    \"Name\":\"Adam\",\n",
    "    \"Age\":8,\n",
    "    \"dob\":(6,5,2017),\n",
    "    \"Subject\":{\"Maths\",\"Chemistry\",\"Software Eng.\"}}\n",
    "\n",
    "\n",
    "#To desplay all student's data\n",
    "print(\"Displaying all students data\")\n",
    "print(students)\n",
    "print(\"\\n\")\n",
    "\n",
    "\n",
    "#To add another subject in a requested student's subject\n",
    "a = input(\"Enter the student in which you want to add the subject\")\n",
    "b = input(\"Enter the subject you want to add in the requested student's subject: \")\n",
    "students[a][\"Subject\"].add(b)\n",
    "print(f\"Updated subjects for {a}: {students[a]['Subject']}\")\n",
    "print(f\"Updated student : {students}\")\n",
    "print(\"\\n\")\n",
    "\n",
    "\n",
    "#To remove a student's subject\n",
    "n= input(\"Enter which students subject you want to remove:\")\n",
    "print(f\"\\n~We are removing {n} student's subject!!~\")\n",
    "remove_Subject = students[n].pop(\"Subject\")\n",
    "print(f\"Remove Subject :{remove_Subject}\")\n",
    "print(f\"updated students:{students}\")\n",
    "print(\"\\n\")\n",
    "\n",
    "\n",
    "#To Display the requested students information\n",
    "d = input(\"Enter which students information you want us to display:\")\n",
    "print(\"\\n~We are displaying the students information!~\")\n",
    "print(students[d])\n",
    "print(\"\\n\")\n",
    "\n",
    "\n",
    "#To remove a students id\n",
    "e = input(\"Please Tell us what students id you want us to remove :\")\n",
    "print(f\"\\n~Now we will remove {e} students info!~\")\n",
    "remove_student = students.pop(e)\n",
    "print(f\"Students after removing {e}: {students}\")\n",
    "print(f\"Removed student: {remove_student}\")\n",
    "\n"
   ]
  },
  {
   "cell_type": "code",
   "execution_count": null,
   "id": "a370564d-d542-413c-af0f-dca5e4f39bbc",
   "metadata": {},
   "outputs": [],
   "source": []
  }
 ],
 "metadata": {
  "kernelspec": {
   "display_name": "base",
   "language": "python",
   "name": "python3"
  },
  "language_info": {
   "codemirror_mode": {
    "name": "ipython",
    "version": 3
   },
   "file_extension": ".py",
   "mimetype": "text/x-python",
   "name": "python",
   "nbconvert_exporter": "python",
   "pygments_lexer": "ipython3",
   "version": "3.12.7"
  }
 },
 "nbformat": 4,
 "nbformat_minor": 5
}
